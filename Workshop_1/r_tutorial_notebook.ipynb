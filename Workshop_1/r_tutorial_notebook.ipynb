{
 "cells": [
  {
   "cell_type": "markdown",
   "id": "0b3d4e37-8575-45ab-8797-fcd4ad7e6646",
   "metadata": {},
   "source": [
    "# R Tutorial\n",
    "\n",
    "**Creators:** Dahn and Ivan"
   ]
  },
  {
   "cell_type": "markdown",
   "id": "64d95cfe-79c1-4e85-8c35-876a5a25c41c",
   "metadata": {},
   "source": [
    "## Data structures in R"
   ]
  },
  {
   "cell_type": "code",
   "execution_count": 8,
   "id": "be766385-3625-4fae-9e42-1a257d7da985",
   "metadata": {},
   "outputs": [
    {
     "data": {
      "text/html": [
       "'double'"
      ],
      "text/latex": [
       "'double'"
      ],
      "text/markdown": [
       "'double'"
      ],
      "text/plain": [
       "[1] \"double\""
      ]
     },
     "metadata": {},
     "output_type": "display_data"
    }
   ],
   "source": [
    "x <- 1\n",
    "typeof(x) "
   ]
  },
  {
   "cell_type": "code",
   "execution_count": 9,
   "id": "b96c1b5d-4f98-40a6-aa7c-dd827319515e",
   "metadata": {},
   "outputs": [
    {
     "data": {
      "text/html": [
       "'integer'"
      ],
      "text/latex": [
       "'integer'"
      ],
      "text/markdown": [
       "'integer'"
      ],
      "text/plain": [
       "[1] \"integer\""
      ]
     },
     "metadata": {},
     "output_type": "display_data"
    }
   ],
   "source": [
    "x <- 1L\n",
    "typeof(x)"
   ]
  },
  {
   "cell_type": "markdown",
   "id": "35e58990-263c-418b-b26c-bd90e608c5de",
   "metadata": {},
   "source": [
    "---\n",
    "\n",
    "## Functions\n",
    "\n",
    "**Creating a vector (or array of values)**"
   ]
  },
  {
   "cell_type": "code",
   "execution_count": 15,
   "id": "a94e524d-5fe4-42c5-b4ab-6d1f64116323",
   "metadata": {},
   "outputs": [],
   "source": [
    "vector <- c(10,20,30,40,50) # c is a function that combines values"
   ]
  },
  {
   "cell_type": "markdown",
   "id": "54f5fcd6-5028-4c65-8d8d-54ea9a4cd078",
   "metadata": {},
   "source": [
    "**Using the `mean()` function to find the average**"
   ]
  },
  {
   "cell_type": "code",
   "execution_count": 14,
   "id": "82289779-f854-4664-a292-ffb651e31f53",
   "metadata": {},
   "outputs": [
    {
     "data": {
      "text/html": [
       "30"
      ],
      "text/latex": [
       "30"
      ],
      "text/markdown": [
       "30"
      ],
      "text/plain": [
       "[1] 30"
      ]
     },
     "metadata": {},
     "output_type": "display_data"
    }
   ],
   "source": [
    "mean(vector)"
   ]
  },
  {
   "cell_type": "markdown",
   "id": "a5a3ccd2-17c9-40c8-b631-f8aaa9d5a45d",
   "metadata": {},
   "source": [
    "### Getting the documentation of a function using `?{function_name}`"
   ]
  },
  {
   "cell_type": "code",
   "execution_count": 1,
   "id": "c03a3283-97ab-4ff5-bb09-fe7c192a3f18",
   "metadata": {},
   "outputs": [
    {
     "data": {
      "text/html": [
       "\n",
       "<table width=\"100%\" summary=\"page for sum {base}\"><tr><td>sum {base}</td><td style=\"text-align: right;\">R Documentation</td></tr></table>\n",
       "\n",
       "<h2>Sum of Vector Elements</h2>\n",
       "\n",
       "<h3>Description</h3>\n",
       "\n",
       "<p><code>sum</code> returns the sum of all the values\n",
       "present in its arguments.\n",
       "</p>\n",
       "\n",
       "\n",
       "<h3>Usage</h3>\n",
       "\n",
       "<pre>\n",
       "sum(..., na.rm = FALSE)\n",
       "</pre>\n",
       "\n",
       "\n",
       "<h3>Arguments</h3>\n",
       "\n",
       "<table summary=\"R argblock\">\n",
       "<tr valign=\"top\"><td><code>...</code></td>\n",
       "<td>\n",
       "<p>numeric or complex or logical vectors.</p>\n",
       "</td></tr>\n",
       "<tr valign=\"top\"><td><code>na.rm</code></td>\n",
       "<td>\n",
       "<p>logical.  Should missing values (including <code>NaN</code>) be\n",
       "removed?</p>\n",
       "</td></tr>\n",
       "</table>\n",
       "\n",
       "\n",
       "<h3>Details</h3>\n",
       "\n",
       "<p>This is a generic function: methods can be defined for it\n",
       "directly or via the <code>Summary</code> group generic.\n",
       "For this to work properly, the arguments <code>...</code> should be\n",
       "unnamed, and dispatch is on the first argument.\n",
       "</p>\n",
       "<p>If <code>na.rm</code> is <code>FALSE</code> an <code>NA</code> or <code>NaN</code> value in\n",
       "any of the arguments will cause a value of <code>NA</code> or <code>NaN</code> to\n",
       "be returned, otherwise <code>NA</code> and <code>NaN</code> values are ignored.\n",
       "</p>\n",
       "<p>Logical true values are regarded as one, false values as zero.\n",
       "For historical reasons, <code>NULL</code> is accepted and treated as if it\n",
       "were <code>integer(0)</code>.\n",
       "</p>\n",
       "<p>Loss of accuracy can occur when summing values of different signs:\n",
       "this can even occur for sufficiently long integer inputs if the\n",
       "partial sums would cause integer overflow.  Where possible\n",
       "extended-precision accumulators are used, typically well supported\n",
       "with C99 and newer, but possibly platform-dependent.\n",
       "</p>\n",
       "\n",
       "\n",
       "<h3>Value</h3>\n",
       "\n",
       "<p>The sum.  If all of the <code>...</code> arguments are of type\n",
       "integer or logical, then the sum is <code>integer</code> when\n",
       "possible and is <code>double</code> otherwise.  Integer overflow should no\n",
       "longer happen since <span style=\"font-family: Courier New, Courier; color: #666666;\"><b>R</b></span> version 3.5.0.\n",
       "For other argument types it is a length-one numeric\n",
       "(<code>double</code>) or complex vector.\n",
       "</p>\n",
       "<p><strong>NB:</strong> the sum of an empty set is zero, by definition.\n",
       "</p>\n",
       "\n",
       "\n",
       "<h3>S4 methods</h3>\n",
       "\n",
       "<p>This is part of the S4 <code>Summary</code>\n",
       "group generic.  Methods for it must use the signature\n",
       "<code>x, ..., na.rm</code>.\n",
       "</p>\n",
       "<p>&lsquo;plotmath&rsquo; for the use of <code>sum</code> in plot annotation.\n",
       "</p>\n",
       "\n",
       "\n",
       "<h3>References</h3>\n",
       "\n",
       "<p>Becker, R. A., Chambers, J. M. and Wilks, A. R. (1988)\n",
       "<em>The New S Language</em>.\n",
       "Wadsworth &amp; Brooks/Cole.\n",
       "</p>\n",
       "\n",
       "\n",
       "<h3>See Also</h3>\n",
       "\n",
       "<p><code>colSums</code> for row and column sums.\n",
       "</p>\n",
       "\n",
       "\n",
       "<h3>Examples</h3>\n",
       "\n",
       "<pre>\n",
       "## Pass a vector to sum, and it will add the elements together.\n",
       "sum(1:5)\n",
       "\n",
       "## Pass several numbers to sum, and it also adds the elements.\n",
       "sum(1, 2, 3, 4, 5)\n",
       "\n",
       "## In fact, you can pass vectors into several arguments, and everything gets added.\n",
       "sum(1:2, 3:5)\n",
       "\n",
       "## If there are missing values, the sum is unknown, i.e., also missing, ....\n",
       "sum(1:5, NA)\n",
       "## ... unless  we exclude missing values explicitly:\n",
       "sum(1:5, NA, na.rm = TRUE)\n",
       "</pre>\n",
       "\n",
       "<hr /><div style=\"text-align: center;\">[Package <em>base</em> version 4.1.3 ]</div>"
      ],
      "text/latex": [
       "\\inputencoding{utf8}\n",
       "\\HeaderA{sum}{Sum of Vector Elements}{sum}\n",
       "\\keyword{arith}{sum}\n",
       "%\n",
       "\\begin{Description}\\relax\n",
       "\\code{sum} returns the sum of all the values\n",
       "present in its arguments.\n",
       "\\end{Description}\n",
       "%\n",
       "\\begin{Usage}\n",
       "\\begin{verbatim}\n",
       "sum(..., na.rm = FALSE)\n",
       "\\end{verbatim}\n",
       "\\end{Usage}\n",
       "%\n",
       "\\begin{Arguments}\n",
       "\\begin{ldescription}\n",
       "\\item[\\code{...}] numeric or complex or logical vectors.\n",
       "\\item[\\code{na.rm}] logical.  Should missing values (including \\code{NaN}) be\n",
       "removed?\n",
       "\\end{ldescription}\n",
       "\\end{Arguments}\n",
       "%\n",
       "\\begin{Details}\\relax\n",
       "This is a generic function: methods can be defined for it\n",
       "directly or via the \\code{\\LinkA{Summary}{S3groupGeneric}} group generic.\n",
       "For this to work properly, the arguments \\code{...} should be\n",
       "unnamed, and dispatch is on the first argument.\n",
       "\n",
       "If \\code{na.rm} is \\code{FALSE} an \\code{NA} or \\code{NaN} value in\n",
       "any of the arguments will cause a value of \\code{NA} or \\code{NaN} to\n",
       "be returned, otherwise \\code{NA} and \\code{NaN} values are ignored.\n",
       "\n",
       "Logical true values are regarded as one, false values as zero.\n",
       "For historical reasons, \\code{NULL} is accepted and treated as if it\n",
       "were \\code{integer(0)}.\n",
       "\n",
       "Loss of accuracy can occur when summing values of different signs:\n",
       "this can even occur for sufficiently long integer inputs if the\n",
       "partial sums would cause integer overflow.  Where possible\n",
       "extended-precision accumulators are used, typically well supported\n",
       "with C99 and newer, but possibly platform-dependent.\n",
       "\\end{Details}\n",
       "%\n",
       "\\begin{Value}\n",
       "The sum.  If all of the \\code{...} arguments are of type\n",
       "integer or logical, then the sum is \\code{\\LinkA{integer}{integer}} when\n",
       "possible and is \\code{double} otherwise.  Integer overflow should no\n",
       "longer happen since \\R{} version 3.5.0.\n",
       "For other argument types it is a length-one numeric\n",
       "(\\code{\\LinkA{double}{double}}) or complex vector.\n",
       "\n",
       "\\strong{NB:} the sum of an empty set is zero, by definition.\n",
       "\\end{Value}\n",
       "%\n",
       "\\begin{Section}{S4 methods}\n",
       "This is part of the S4 \\code{\\LinkA{Summary}{S4groupGeneric}}\n",
       "group generic.  Methods for it must use the signature\n",
       "\\code{x, ..., na.rm}.\n",
       "\n",
       "`\\LinkA{plotmath}{plotmath}' for the use of \\code{sum} in plot annotation.\n",
       "\\end{Section}\n",
       "%\n",
       "\\begin{References}\\relax\n",
       "Becker, R. A., Chambers, J. M. and Wilks, A. R. (1988)\n",
       "\\emph{The New S Language}.\n",
       "Wadsworth \\& Brooks/Cole.\n",
       "\\end{References}\n",
       "%\n",
       "\\begin{SeeAlso}\\relax\n",
       "\\code{\\LinkA{colSums}{colSums}} for row and column sums.\n",
       "\\end{SeeAlso}\n",
       "%\n",
       "\\begin{Examples}\n",
       "\\begin{ExampleCode}\n",
       "\n",
       "## Pass a vector to sum, and it will add the elements together.\n",
       "sum(1:5)\n",
       "\n",
       "## Pass several numbers to sum, and it also adds the elements.\n",
       "sum(1, 2, 3, 4, 5)\n",
       "\n",
       "## In fact, you can pass vectors into several arguments, and everything gets added.\n",
       "sum(1:2, 3:5)\n",
       "\n",
       "## If there are missing values, the sum is unknown, i.e., also missing, ....\n",
       "sum(1:5, NA)\n",
       "## ... unless  we exclude missing values explicitly:\n",
       "sum(1:5, NA, na.rm = TRUE)\n",
       "\\end{ExampleCode}\n",
       "\\end{Examples}"
      ],
      "text/plain": [
       "sum                    package:base                    R Documentation\n",
       "\n",
       "_\bS_\bu_\bm _\bo_\bf _\bV_\be_\bc_\bt_\bo_\br _\bE_\bl_\be_\bm_\be_\bn_\bt_\bs\n",
       "\n",
       "_\bD_\be_\bs_\bc_\br_\bi_\bp_\bt_\bi_\bo_\bn:\n",
       "\n",
       "     ‘sum’ returns the sum of all the values present in its arguments.\n",
       "\n",
       "_\bU_\bs_\ba_\bg_\be:\n",
       "\n",
       "     sum(..., na.rm = FALSE)\n",
       "     \n",
       "_\bA_\br_\bg_\bu_\bm_\be_\bn_\bt_\bs:\n",
       "\n",
       "     ...: numeric or complex or logical vectors.\n",
       "\n",
       "   na.rm: logical.  Should missing values (including ‘NaN’) be removed?\n",
       "\n",
       "_\bD_\be_\bt_\ba_\bi_\bl_\bs:\n",
       "\n",
       "     This is a generic function: methods can be defined for it directly\n",
       "     or via the ‘Summary’ group generic.  For this to work properly,\n",
       "     the arguments ‘...’ should be unnamed, and dispatch is on the\n",
       "     first argument.\n",
       "\n",
       "     If ‘na.rm’ is ‘FALSE’ an ‘NA’ or ‘NaN’ value in any of the\n",
       "     arguments will cause a value of ‘NA’ or ‘NaN’ to be returned,\n",
       "     otherwise ‘NA’ and ‘NaN’ values are ignored.\n",
       "\n",
       "     Logical true values are regarded as one, false values as zero.\n",
       "     For historical reasons, ‘NULL’ is accepted and treated as if it\n",
       "     were ‘integer(0)’.\n",
       "\n",
       "     Loss of accuracy can occur when summing values of different signs:\n",
       "     this can even occur for sufficiently long integer inputs if the\n",
       "     partial sums would cause integer overflow.  Where possible\n",
       "     extended-precision accumulators are used, typically well supported\n",
       "     with C99 and newer, but possibly platform-dependent.\n",
       "\n",
       "_\bV_\ba_\bl_\bu_\be:\n",
       "\n",
       "     The sum.  If all of the ‘...’ arguments are of type integer or\n",
       "     logical, then the sum is ‘integer’ when possible and is ‘double’\n",
       "     otherwise.  Integer overflow should no longer happen since R\n",
       "     version 3.5.0.  For other argument types it is a length-one\n",
       "     numeric (‘double’) or complex vector.\n",
       "\n",
       "     *NB:* the sum of an empty set is zero, by definition.\n",
       "\n",
       "_\bS_\b4 _\bm_\be_\bt_\bh_\bo_\bd_\bs:\n",
       "\n",
       "     This is part of the S4 ‘Summary’ group generic.  Methods for it\n",
       "     must use the signature ‘x, ..., na.rm’.\n",
       "\n",
       "     ‘plotmath’ for the use of ‘sum’ in plot annotation.\n",
       "\n",
       "_\bR_\be_\bf_\be_\br_\be_\bn_\bc_\be_\bs:\n",
       "\n",
       "     Becker, R. A., Chambers, J. M. and Wilks, A. R. (1988) _The New S\n",
       "     Language_.  Wadsworth & Brooks/Cole.\n",
       "\n",
       "_\bS_\be_\be _\bA_\bl_\bs_\bo:\n",
       "\n",
       "     ‘colSums’ for row and column sums.\n",
       "\n",
       "_\bE_\bx_\ba_\bm_\bp_\bl_\be_\bs:\n",
       "\n",
       "     ## Pass a vector to sum, and it will add the elements together.\n",
       "     sum(1:5)\n",
       "     \n",
       "     ## Pass several numbers to sum, and it also adds the elements.\n",
       "     sum(1, 2, 3, 4, 5)\n",
       "     \n",
       "     ## In fact, you can pass vectors into several arguments, and everything gets added.\n",
       "     sum(1:2, 3:5)\n",
       "     \n",
       "     ## If there are missing values, the sum is unknown, i.e., also missing, ....\n",
       "     sum(1:5, NA)\n",
       "     ## ... unless  we exclude missing values explicitly:\n",
       "     sum(1:5, NA, na.rm = TRUE)\n",
       "     "
      ]
     },
     "metadata": {},
     "output_type": "display_data"
    }
   ],
   "source": [
    "?sum"
   ]
  },
  {
   "cell_type": "markdown",
   "id": "bc2486fd-c137-4837-9f5b-5b946abba462",
   "metadata": {},
   "source": [
    "```R\n",
    "# Define a simple function\n",
    "myFirstFun<-function(n)\n",
    "{\n",
    "  # Compute the square of integer `n`\n",
    "  n*n   \n",
    "}\n",
    "\n",
    "# Assign `10` to `k`\n",
    "k <- 10\n",
    "\n",
    "# Call `myFirstFun` with that value\n",
    "m <- ..............\n",
    "\n",
    "# Call `m` \n",
    ".\n",
    "```"
   ]
  },
  {
   "cell_type": "code",
   "execution_count": null,
   "id": "87ad2b21-8dfe-42ee-b143-befc5b19706b",
   "metadata": {},
   "outputs": [],
   "source": []
  }
 ],
 "metadata": {
  "kernelspec": {
   "display_name": "R",
   "language": "R",
   "name": "ir"
  },
  "language_info": {
   "codemirror_mode": "r",
   "file_extension": ".r",
   "mimetype": "text/x-r-source",
   "name": "R",
   "pygments_lexer": "r",
   "version": "4.1.3"
  }
 },
 "nbformat": 4,
 "nbformat_minor": 5
}
